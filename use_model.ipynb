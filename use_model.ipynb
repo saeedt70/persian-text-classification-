{
  "nbformat": 4,
  "nbformat_minor": 0,
  "metadata": {
    "colab": {
      "name": "use_lstm1.ipynb",
      "provenance": [],
      "collapsed_sections": [],
      "include_colab_link": true
    },
    "kernelspec": {
      "name": "python3",
      "display_name": "Python 3"
    },
    "language_info": {
      "name": "python"
    }
  },
  "cells": [
    {
      "cell_type": "markdown",
      "metadata": {
        "id": "view-in-github",
        "colab_type": "text"
      },
      "source": [
        "<a href=\"https://colab.research.google.com/github/saeedt70/persian-text-classification-/blob/main/use_model.ipynb\" target=\"_parent\"><img src=\"https://colab.research.google.com/assets/colab-badge.svg\" alt=\"Open In Colab\"/></a>"
      ]
    },
    {
      "cell_type": "code",
      "source": [
        "!pip install openpyxl\n",
        "!pip install hazm"
      ],
      "metadata": {
        "colab": {
          "base_uri": "https://localhost:8080/"
        },
        "id": "qamKaN-5_CEQ",
        "outputId": "7c926455-acc8-4a80-c089-6178c33cfcc4"
      },
      "execution_count": null,
      "outputs": [
        {
          "output_type": "stream",
          "name": "stdout",
          "text": [
            "Looking in indexes: https://pypi.org/simple, https://us-python.pkg.dev/colab-wheels/public/simple/\n",
            "Requirement already satisfied: openpyxl in /usr/local/lib/python3.7/dist-packages (3.0.10)\n",
            "Requirement already satisfied: et-xmlfile in /usr/local/lib/python3.7/dist-packages (from openpyxl) (1.1.0)\n",
            "Looking in indexes: https://pypi.org/simple, https://us-python.pkg.dev/colab-wheels/public/simple/\n",
            "Collecting hazm\n",
            "  Downloading hazm-0.7.0-py3-none-any.whl (316 kB)\n",
            "\u001b[K     |████████████████████████████████| 316 kB 4.9 MB/s \n",
            "\u001b[?25hCollecting nltk==3.3\n",
            "  Downloading nltk-3.3.0.zip (1.4 MB)\n",
            "\u001b[K     |████████████████████████████████| 1.4 MB 24.1 MB/s \n",
            "\u001b[?25hCollecting libwapiti>=0.2.1\n",
            "  Downloading libwapiti-0.2.1.tar.gz (233 kB)\n",
            "\u001b[K     |████████████████████████████████| 233 kB 44.2 MB/s \n",
            "\u001b[?25hRequirement already satisfied: six in /usr/local/lib/python3.7/dist-packages (from nltk==3.3->hazm) (1.15.0)\n",
            "Building wheels for collected packages: nltk, libwapiti\n",
            "  Building wheel for nltk (setup.py) ... \u001b[?25l\u001b[?25hdone\n",
            "  Created wheel for nltk: filename=nltk-3.3-py3-none-any.whl size=1394487 sha256=1b67979135abad986fd1224c52efed9a8ada04ab803a4b13522fcb2b22601401\n",
            "  Stored in directory: /root/.cache/pip/wheels/9b/fd/0c/d92302c876e5de87ebd7fc0979d82edb93e2d8d768bf71fac4\n",
            "  Building wheel for libwapiti (setup.py) ... \u001b[?25l\u001b[?25hdone\n",
            "  Created wheel for libwapiti: filename=libwapiti-0.2.1-cp37-cp37m-linux_x86_64.whl size=154183 sha256=80ddb3a6923eaf553647db21d59a72acf5631c67125ecda92e921887efe99ea3\n",
            "  Stored in directory: /root/.cache/pip/wheels/ab/b2/5b/0fe4b8f5c0e65341e8ea7bb3f4a6ebabfe8b1ac31322392dbf\n",
            "Successfully built nltk libwapiti\n",
            "Installing collected packages: nltk, libwapiti, hazm\n",
            "  Attempting uninstall: nltk\n",
            "    Found existing installation: nltk 3.7\n",
            "    Uninstalling nltk-3.7:\n",
            "      Successfully uninstalled nltk-3.7\n",
            "Successfully installed hazm-0.7.0 libwapiti-0.2.1 nltk-3.3\n"
          ]
        }
      ]
    },
    {
      "cell_type": "code",
      "source": [
        "import numpy as np \n",
        "import pandas as pd\n",
        "from hazm import *\n",
        "import re\n",
        "from sklearn.feature_extraction.text import TfidfVectorizer\n",
        "from sklearn.model_selection import train_test_split\n",
        "import seaborn as sns\n",
        "import os\n",
        "import matplotlib.pyplot as plt"
      ],
      "metadata": {
        "id": "gPO1AUOI_Gd1"
      },
      "execution_count": null,
      "outputs": []
    },
    {
      "cell_type": "code",
      "source": [
        "from google.colab import drive\n",
        "drive.mount('/content/drive')"
      ],
      "metadata": {
        "id": "enj80N_y-YWb",
        "colab": {
          "base_uri": "https://localhost:8080/"
        },
        "outputId": "b835d529-bc34-4693-a77f-0fc76a6857f4"
      },
      "execution_count": null,
      "outputs": [
        {
          "output_type": "stream",
          "name": "stdout",
          "text": [
            "Mounted at /content/drive\n"
          ]
        }
      ]
    },
    {
      "cell_type": "code",
      "source": [
        "df = pd.read_excel('/content/drive/MyDrive/Saeed taheri.xlsx')\n",
        "df.shape"
      ],
      "metadata": {
        "colab": {
          "base_uri": "https://localhost:8080/"
        },
        "id": "LOD41_gl_JAd",
        "outputId": "88317391-749c-4f35-def8-c553b0518c1f"
      },
      "execution_count": null,
      "outputs": [
        {
          "output_type": "execute_result",
          "data": {
            "text/plain": [
              "(21087, 3)"
            ]
          },
          "metadata": {},
          "execution_count": 7
        }
      ]
    },
    {
      "cell_type": "code",
      "source": [
        "isni=df.isnull().sum()\n",
        "print(isni)\n",
        "sns.countplot(x=df[\"cat\"])\n",
        "plt.show()\n",
        "\n",
        "sns.countplot(x=df[\"sent\"])\n",
        "plt.show()\n",
        "#isnull\n",
        "sns.countplot(isni)\n",
        "plt.show()"
      ],
      "metadata": {
        "id": "6eNNV8La6TLN",
        "colab": {
          "base_uri": "https://localhost:8080/",
          "height": 920
        },
        "outputId": "a47a5a74-4c64-4627-865a-9d76c445833f"
      },
      "execution_count": null,
      "outputs": [
        {
          "output_type": "stream",
          "name": "stdout",
          "text": [
            "text    19\n",
            "cat      2\n",
            "sent     3\n",
            "dtype: int64\n"
          ]
        },
        {
          "output_type": "display_data",
          "data": {
            "text/plain": [
              "<Figure size 432x288 with 1 Axes>"
            ],
            "image/png": "[encoded data removed]"
          },
          "metadata": {
            "needs_background": "light"
          }
        },
        {
          "output_type": "display_data",
          "data": {
            "text/plain": [
              "<Figure size 432x288 with 1 Axes>"
            ],
            "image/png": "[encoded data removed]"
          },
          "metadata": {
            "needs_background": "light"
          }
        },
        {
          "output_type": "stream",
          "name": "stderr",
          "text": [
            "/usr/local/lib/python3.7/dist-packages/seaborn/_decorators.py:43: FutureWarning: Pass the following variable as a keyword arg: x. From version 0.12, the only valid positional argument will be `data`, and passing other arguments without an explicit keyword will result in an error or misinterpretation.\n",
            "  FutureWarning\n"
          ]
        },
        {
          "output_type": "display_data",
          "data": {
            "text/plain": [
              "<Figure size 432x288 with 1 Axes>"
            ],
            "image/png": "[encoded data removed]"
          },
          "metadata": {
            "needs_background": "light"
          }
        }
      ]
    },
    {
      "cell_type": "code",
      "source": [
        "import re\n",
        "\n",
        "normalizer = Normalizer()\n",
        "df = df.dropna()\n",
        "df['text'] = df['text'].str.replace('[^\\w\\s#@/:%.,_-]', '', flags=re.UNICODE)\n",
        "\n",
        "df['text'] = df['text'].apply(lambda x:normalizer.normalize(x))\n",
        "\n",
        "df['text'] = df['text'].apply(lambda x: re.sub('[0-9]+', ' ', x))\n",
        "\n",
        "\n",
        "To_Process = df[['sent','text']]\n",
        "To_Process.shape\n"
      ],
      "metadata": {
        "id": "sQWaxzkE_M4U",
        "colab": {
          "base_uri": "https://localhost:8080/"
        },
        "outputId": "68ef1f38-7c1e-4514-90f6-a3fbd9d6b9e6"
      },
      "execution_count": null,
      "outputs": [
        {
          "output_type": "stream",
          "name": "stderr",
          "text": [
            "/usr/local/lib/python3.7/dist-packages/ipykernel_launcher.py:5: FutureWarning: The default value of regex will change from True to False in a future version.\n",
            "  \"\"\"\n"
          ]
        },
        {
          "output_type": "execute_result",
          "data": {
            "text/plain": [
              "(21049, 2)"
            ]
          },
          "metadata": {},
          "execution_count": 12
        }
      ]
    },
    {
      "cell_type": "code",
      "source": [
        "train, test = train_test_split(To_Process, test_size=0.2)\n",
        "from keras.preprocessing.text import Tokenizer\n",
        "from keras.preprocessing.sequence import pad_sequences\n",
        "\n",
        "# Define the sequence lengths, max number of words and embedding dimensions\n",
        "MAX_SEQUENCE_LENGTH = 300 #can plot a graph for length\n",
        "MAX_NB_WORDS = 15000\n",
        "EMBEDDING_DIM = 100\n",
        "\n",
        "# Get the frequently occurring words\n",
        "tokenizer = Tokenizer(num_words=MAX_NB_WORDS)\n",
        "tokenizer.fit_on_texts(train.text)\n",
        "train_sequences = tokenizer.texts_to_sequences(train.text)\n",
        "test_sequences = tokenizer.texts_to_sequences(test.text)\n",
        "\n",
        "word_index = tokenizer.word_index\n",
        "print('Found %s unique tokens.' % len(word_index))\n",
        "\n",
        "#some padding shit\n",
        "train_data = pad_sequences(train_sequences, maxlen=MAX_SEQUENCE_LENGTH)\n",
        "test_data = pad_sequences(test_sequences, maxlen=MAX_SEQUENCE_LENGTH)"
      ],
      "metadata": {
        "id": "MkF6YV5X_VjE",
        "colab": {
          "base_uri": "https://localhost:8080/"
        },
        "outputId": "028e5f29-2415-4238-9d77-982e8ce74bee"
      },
      "execution_count": null,
      "outputs": [
        {
          "output_type": "stream",
          "name": "stdout",
          "text": [
            "Found 11377 unique tokens.\n"
          ]
        }
      ]
    },
    {
      "cell_type": "code",
      "source": [
        "from sklearn.preprocessing import LabelEncoder\n",
        "\n",
        "train_labels = train['sent']\n",
        "test_labels = test['sent']\n",
        "\n",
        "le = LabelEncoder()\n",
        "le.fit(train_labels)\n",
        "train_labels = le.transform(train_labels)\n",
        "test_labels = le.transform(test_labels)\n",
        "print(le.classes_)"
      ],
      "metadata": {
        "id": "IFjvI50h_ais",
        "colab": {
          "base_uri": "https://localhost:8080/"
        },
        "outputId": "8372d9b2-2242-4cc2-da11-50fe84a4413c"
      },
      "execution_count": null,
      "outputs": [
        {
          "output_type": "stream",
          "name": "stdout",
          "text": [
            "[-1.  0.  1.]\n"
          ]
        }
      ]
    },
    {
      "cell_type": "code",
      "source": [
        "from tensorflow.keras.utils import to_categorical\n",
        "\n",
        "#change data types (actualy idk why)\n",
        "labels_train = to_categorical(np.asarray(train_labels))\n",
        "labels_test = to_categorical(np.asarray(test_labels))"
      ],
      "metadata": {
        "id": "Z8-yvm4g_dWU"
      },
      "execution_count": null,
      "outputs": []
    },
    {
      "cell_type": "code",
      "execution_count": null,
      "metadata": {
        "id": "iVNNhyLh-GL6",
        "colab": {
          "base_uri": "https://localhost:8080/"
        },
        "outputId": "6e95961d-4e4d-4850-9c1e-ff42d0d15aa3"
      },
      "outputs": [
        {
          "output_type": "stream",
          "name": "stdout",
          "text": [
            "Model: \"sequential_7\"\n",
            "_________________________________________________________________\n",
            " Layer (type)                Output Shape              Param #   \n",
            "=================================================================\n",
            " embedding_7 (Embedding)     (None, 300, 100)          1500000   \n",
            "                                                                 \n",
            " lstm_7 (LSTM)               (None, 300, 16)           7488      \n",
            "                                                                 \n",
            " dropout_7 (Dropout)         (None, 300, 16)           0         \n",
            "                                                                 \n",
            " batch_normalization_7 (Batc  (None, 300, 16)          64        \n",
            " hNormalization)                                                 \n",
            "                                                                 \n",
            " flatten_7 (Flatten)         (None, 4800)              0         \n",
            "                                                                 \n",
            " dense_7 (Dense)             (None, 3)                 14403     \n",
            "                                                                 \n",
            "=================================================================\n",
            "Total params: 1,521,955\n",
            "Trainable params: 1,521,923\n",
            "Non-trainable params: 32\n",
            "_________________________________________________________________\n"
          ]
        },
        {
          "output_type": "execute_result",
          "data": {
            "text/plain": [
              "<keras.optimizer_v2.adam.Adam at 0x7f7f971a7e50>"
            ]
          },
          "metadata": {},
          "execution_count": 16
        }
      ],
      "source": [
        "import pandas as pd\n",
        "from tensorflow.keras.models import load_model\n",
        "import numpy as np\n",
        "from sklearn.metrics import classification_report\n",
        "newmodel=load_model('/content/drive/MyDrive/mymodel')\n",
        "newmodel.summary()\n",
        "newmodel.get_weights()\n",
        "newmodel.optimizer\n",
        "\n",
        "\n",
        "\n",
        "\n",
        "\n"
      ]
    },
    {
      "cell_type": "code",
      "source": [
        "accr= newmodel.evaluate(test_data,labels_test)\n",
        "print(accr)"
      ],
      "metadata": {
        "id": "uM97kLfEGocb",
        "colab": {
          "base_uri": "https://localhost:8080/"
        },
        "outputId": "3eafbcc4-9f80-4b98-90bc-edf01f211152"
      },
      "execution_count": null,
      "outputs": [
        {
          "output_type": "stream",
          "name": "stdout",
          "text": [
            "132/132 [==============================] - 5s 32ms/step - loss: 1.2775 - accuracy: 0.6572\n",
            "[1.277479887008667, 0.6572446823120117]\n"
          ]
        }
      ]
    },
    {
      "cell_type": "code",
      "source": [
        "import sklearn\n",
        "from IPython import display\n",
        "import matplotlib.pyplot as plt\n",
        "predicted=newmodel.predict(test_data)\n",
        "target =  ['manfi', 'khonsa', 'mosbat']  \n",
        "report1 =sklearn.metrics.classification_report(labels_test, predicted.round(),target_names=target, digits=4,  output_dict=True)\n",
        "display.display(pd.DataFrame(report1))\n",
        "df = pd.DataFrame(report1)\n",
        "df.iloc[:3, :3].T.plot(kind='bar')\n",
        "plt.show()\n"
      ],
      "metadata": {
        "id": "zbx8iUCZSU98",
        "colab": {
          "base_uri": "https://localhost:8080/",
          "height": 507
        },
        "outputId": "4812fcf5-dc8e-4658-847e-05d1721162c7"
      },
      "execution_count": null,
      "outputs": [
        {
          "output_type": "stream",
          "name": "stderr",
          "text": [
            "/usr/local/lib/python3.7/dist-packages/sklearn/metrics/_classification.py:1318: UndefinedMetricWarning: Precision and F-score are ill-defined and being set to 0.0 in samples with no predicted labels. Use `zero_division` parameter to control this behavior.\n",
            "  _warn_prf(average, modifier, msg_start, len(result))\n"
          ]
        },
        {
          "output_type": "display_data",
          "data": {
            "text/plain": [
              "                 manfi      khonsa       mosbat    micro avg    macro avg  \\\n",
              "precision     0.440767    0.164733     0.841006     0.660663     0.482169   \n",
              "recall        0.503483    0.254480     0.742994     0.653444     0.500319   \n",
              "f1-score      0.470042    0.200000     0.788968     0.657034     0.486336   \n",
              "support    1005.000000  279.000000  2926.000000  4210.000000  4210.000000   \n",
              "\n",
              "           weighted avg  samples avg  \n",
              "precision      0.700645     0.653444  \n",
              "recall         0.653444     0.653444  \n",
              "f1-score       0.673803     0.653444  \n",
              "support     4210.000000  4210.000000  "
            ],
            "text/html": [
              "\n",
              "  <div id=\"df-2f192da7-4502-41f2-84ed-9f689b8d8013\">\n",
              "    <div class=\"colab-df-container\">\n",
              "      <div>\n",
              "<style scoped>\n",
              "    .dataframe tbody tr th:only-of-type {\n",
              "        vertical-align: middle;\n",
              "    }\n",
              "\n",
              "    .dataframe tbody tr th {\n",
              "        vertical-align: top;\n",
              "    }\n",
              "\n",
              "    .dataframe thead th {\n",
              "        text-align: right;\n",
              "    }\n",
              "</style>\n",
              "<table border=\"1\" class=\"dataframe\">\n",
              "  <thead>\n",
              "    <tr style=\"text-align: right;\">\n",
              "      <th></th>\n",
              "      <th>manfi</th>\n",
              "      <th>khonsa</th>\n",
              "      <th>mosbat</th>\n",
              "      <th>micro avg</th>\n",
              "      <th>macro avg</th>\n",
              "      <th>weighted avg</th>\n",
              "      <th>samples avg</th>\n",
              "    </tr>\n",
              "  </thead>\n",
              "  <tbody>\n",
              "    <tr>\n",
              "      <th>precision</th>\n",
              "      <td>0.440767</td>\n",
              "      <td>0.164733</td>\n",
              "      <td>0.841006</td>\n",
              "      <td>0.660663</td>\n",
              "      <td>0.482169</td>\n",
              "      <td>0.700645</td>\n",
              "      <td>0.653444</td>\n",
              "    </tr>\n",
              "    <tr>\n",
              "      <th>recall</th>\n",
              "      <td>0.503483</td>\n",
              "      <td>0.254480</td>\n",
              "      <td>0.742994</td>\n",
              "      <td>0.653444</td>\n",
              "      <td>0.500319</td>\n",
              "      <td>0.653444</td>\n",
              "      <td>0.653444</td>\n",
              "    </tr>\n",
              "    <tr>\n",
              "      <th>f1-score</th>\n",
              "      <td>0.470042</td>\n",
              "      <td>0.200000</td>\n",
              "      <td>0.788968</td>\n",
              "      <td>0.657034</td>\n",
              "      <td>0.486336</td>\n",
              "      <td>0.673803</td>\n",
              "      <td>0.653444</td>\n",
              "    </tr>\n",
              "    <tr>\n",
              "      <th>support</th>\n",
              "      <td>1005.000000</td>\n",
              "      <td>279.000000</td>\n",
              "      <td>2926.000000</td>\n",
              "      <td>4210.000000</td>\n",
              "      <td>4210.000000</td>\n",
              "      <td>4210.000000</td>\n",
              "      <td>4210.000000</td>\n",
              "    </tr>\n",
              "  </tbody>\n",
              "</table>\n",
              "</div>\n",
              "      <button class=\"colab-df-convert\" onclick=\"convertToInteractive('df-2f192da7-4502-41f2-84ed-9f689b8d8013')\"\n",
              "              title=\"Convert this dataframe to an interactive table.\"\n",
              "              style=\"display:none;\">\n",
              "        \n",
              "  <svg xmlns=\"http://www.w3.org/2000/svg\" height=\"24px\"viewBox=\"0 0 24 24\"\n",
              "       width=\"24px\">\n",
              "    <path d=\"M0 0h24v24H0V0z\" fill=\"none\"/>\n",
              "    <path d=\"M18.56 5.44l.94 2.06.94-2.06 2.06-.94-2.06-.94-.94-2.06-.94 2.06-2.06.94zm-11 1L8.5 8.5l.94-2.06 2.06-.94-2.06-.94L8.5 2.5l-.94 2.06-2.06.94zm10 10l.94 2.06.94-2.06 2.06-.94-2.06-.94-.94-2.06-.94 2.06-2.06.94z\"/><path d=\"M17.41 7.96l-1.37-1.37c-.4-.4-.92-.59-1.43-.59-.52 0-1.04.2-1.43.59L10.3 9.45l-7.72 7.72c-.78.78-.78 2.05 0 2.83L4 21.41c.39.39.9.59 1.41.59.51 0 1.02-.2 1.41-.59l7.78-7.78 2.81-2.81c.8-.78.8-2.07 0-2.86zM5.41 20L4 18.59l7.72-7.72 1.47 1.35L5.41 20z\"/>\n",
              "  </svg>\n",
              "      </button>\n",
              "      \n",
              "  <style>\n",
              "    .colab-df-container {\n",
              "      display:flex;\n",
              "      flex-wrap:wrap;\n",
              "      gap: 12px;\n",
              "    }\n",
              "\n",
              "    .colab-df-convert {\n",
              "      background-color: #E8F0FE;\n",
              "      border: none;\n",
              "      border-radius: 50%;\n",
              "      cursor: pointer;\n",
              "      display: none;\n",
              "      fill: #1967D2;\n",
              "      height: 32px;\n",
              "      padding: 0 0 0 0;\n",
              "      width: 32px;\n",
              "    }\n",
              "\n",
              "    .colab-df-convert:hover {\n",
              "      background-color: #E2EBFA;\n",
              "      box-shadow: 0px 1px 2px rgba(60, 64, 67, 0.3), 0px 1px 3px 1px rgba(60, 64, 67, 0.15);\n",
              "      fill: #174EA6;\n",
              "    }\n",
              "\n",
              "    [theme=dark] .colab-df-convert {\n",
              "      background-color: #3B4455;\n",
              "      fill: #D2E3FC;\n",
              "    }\n",
              "\n",
              "    [theme=dark] .colab-df-convert:hover {\n",
              "      background-color: #434B5C;\n",
              "      box-shadow: 0px 1px 3px 1px rgba(0, 0, 0, 0.15);\n",
              "      filter: drop-shadow(0px 1px 2px rgba(0, 0, 0, 0.3));\n",
              "      fill: #FFFFFF;\n",
              "    }\n",
              "  </style>\n",
              "\n",
              "      <script>\n",
              "        const buttonEl =\n",
              "          document.querySelector('#df-2f192da7-4502-41f2-84ed-9f689b8d8013 button.colab-df-convert');\n",
              "        buttonEl.style.display =\n",
              "          google.colab.kernel.accessAllowed ? 'block' : 'none';\n",
              "\n",
              "        async function convertToInteractive(key) {\n",
              "          const element = document.querySelector('#df-2f192da7-4502-41f2-84ed-9f689b8d8013');\n",
              "          const dataTable =\n",
              "            await google.colab.kernel.invokeFunction('convertToInteractive',\n",
              "                                                     [key], {});\n",
              "          if (!dataTable) return;\n",
              "\n",
              "          const docLinkHtml = 'Like what you see? Visit the ' +\n",
              "            '<a target=\"_blank\" href=https://colab.research.google.com/notebooks/data_table.ipynb>data table notebook</a>'\n",
              "            + ' to learn more about interactive tables.';\n",
              "          element.innerHTML = '';\n",
              "          dataTable['output_type'] = 'display_data';\n",
              "          await google.colab.output.renderOutput(dataTable, element);\n",
              "          const docLink = document.createElement('div');\n",
              "          docLink.innerHTML = docLinkHtml;\n",
              "          element.appendChild(docLink);\n",
              "        }\n",
              "      </script>\n",
              "    </div>\n",
              "  </div>\n",
              "  "
            ]
          },
          "metadata": {}
        },
        {
          "output_type": "display_data",
          "data": {
            "text/plain": [
              "<Figure size 432x288 with 1 Axes>"
            ],
            "image/png": "[encoded data removed]"
          },
          "metadata": {
            "needs_background": "light"
          }
        }
      ]
    },
    {
      "cell_type": "code",
      "source": [
        "from sklearn.metrics import *\n",
        "import matplotlib.pyplot as plt\n",
        "import seaborn as sns\n",
        "\n",
        "\n",
        "y_pred = np.argmax(predicted.round(), axis=1)\n",
        "cm=multilabel_confusion_matrix(test_labels, y_pred, labels=[-1,  0,  1] )\n",
        "print(cm)\n",
        "\n",
        "#############\n",
        "# Plot confusion matrix \n",
        "fig = plt.figure(figsize = (15, 10))\n",
        "for i, (label, matrix) in enumerate(zip(['manfi','khonsa','mosbat'], cm)):\n",
        "    plt.subplot(f'23{i+1}')\n",
        "    labels = [f'not_{label}', label]\n",
        "    sns.heatmap(matrix, annot = True, square = True, fmt = 'd', cbar = False, cmap = 'Blues', \n",
        "                xticklabels = labels, yticklabels = labels, linecolor = 'black', linewidth = 1)\n",
        "    plt.title(labels[0])\n",
        "\n",
        "plt.tight_layout()\n",
        "plt.show()\n",
        "\n",
        "\n"
      ],
      "metadata": {
        "colab": {
          "base_uri": "https://localhost:8080/",
          "height": 528
        },
        "id": "r_UJsYodq8zf",
        "outputId": "fa0a63c7-21c3-40a6-df09-e365a76f6418"
      },
      "execution_count": null,
      "outputs": [
        {
          "output_type": "stream",
          "name": "stdout",
          "text": [
            "[[[4210    0]\n",
            "  [   0    0]]\n",
            "\n",
            " [[2535  670]\n",
            "  [ 481  524]]\n",
            "\n",
            " [[3571  360]\n",
            "  [ 208   71]]]\n"
          ]
        },
        {
          "output_type": "display_data",
          "data": {
            "text/plain": [
              "<Figure size 1080x720 with 3 Axes>"
            ],
            "image/png": "[encoded data removed]"
          },
          "metadata": {}
        }
      ]
    },
    {
      "cell_type": "code",
      "source": [
        "k = 909\n",
        "print(test.iloc[k])\n",
        "x = newmodel(test_data[k:k+1,:])\n",
        "x\n",
        "labels = ['manfi', 'khonsa', 'mosbat']  \n",
        "print(x, labels[np.argmax(x)])\n"
      ],
      "metadata": {
        "id": "sEbe1wj3_q_A",
        "colab": {
          "base_uri": "https://localhost:8080/"
        },
        "outputId": "578c8a44-ed98-44ef-de45-7c1943cb122e"
      },
      "execution_count": null,
      "outputs": [
        {
          "output_type": "stream",
          "name": "stdout",
          "text": [
            "sent                 -1.0\n",
            "text    عالی فقط یکم سخته\n",
            "Name: 16011, dtype: object\n",
            "tf.Tensor([[3.1065833e-06 3.1586194e-09 9.9999690e-01]], shape=(1, 3), dtype=float32) mosbat\n"
          ]
        }
      ]
    }
  ]
}